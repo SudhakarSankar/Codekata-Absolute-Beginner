{
 "cells": [
  {
   "cell_type": "code",
   "execution_count": null,
   "metadata": {},
   "outputs": [
    {
     "name": "stdout",
     "output_type": "stream",
     "text": [
      "3 6 9\n"
     ]
    }
   ],
   "source": [
    "# 1.   Print the First 3 multiples of the given number \"N\". (N is a positive integer)\n",
    "\n",
    "# Note: print the characters with a single space between them.\n",
    "\n",
    "\n",
    "# Input Description:\n",
    "# A positive integer is provided to you as an input.\n",
    "\n",
    "# Output Description:\n",
    "# Print the First 3 multiples of the number with single spaces between them as an output.\n",
    "\n",
    "# Sample Input :\n",
    "# 2\n",
    "# Sample Output :\n",
    "# 2 4 6\n",
    "\n",
    "\n",
    "A = int(input())\n",
    "B = A * 1\n",
    "C = A * 2\n",
    "D = A * 3\n",
    "\n",
    "print(B,C,D)"
   ]
  },
  {
   "cell_type": "code",
   "execution_count": null,
   "metadata": {},
   "outputs": [
    {
     "name": "stdout",
     "output_type": "stream",
     "text": [
      "3\n"
     ]
    }
   ],
   "source": [
    "# 2.   You are given three numbers A, B & C. Print the largest amongst these three numbers.\n",
    "\n",
    "# Input Description:\n",
    "# Three numbers are provided to you.\n",
    "\n",
    "# Output Description:\n",
    "# Find and print the largest among the three\n",
    "\n",
    "# Sample Input :\n",
    "# 1\n",
    "# 2\n",
    "# 3\n",
    "# Sample Output :\n",
    "# 3\n",
    "\n",
    "a = int(input())\n",
    "b = int(input())\n",
    "c = int(input())\n",
    "if a > b and a > c:\n",
    "    print(a)\n",
    "elif b > a and b > c:\n",
    "    print(b)\n",
    "else:\n",
    "    print(c)\n"
   ]
  },
  {
   "cell_type": "code",
   "execution_count": null,
   "metadata": {},
   "outputs": [],
   "source": [
    "# 3.   You are given with a number \"N\", find its cube.\n",
    "\n",
    "\n",
    "# Input Description:\n",
    "# A positive integer is provided.\n",
    "\n",
    "# Output Description:\n",
    "# Find the cube of the number.\n",
    "\n",
    "# Sample Input :\n",
    "# 2\n",
    "# Sample Output :\n",
    "8"
   ]
  },
  {
   "cell_type": "code",
   "execution_count": 6,
   "metadata": {},
   "outputs": [
    {
     "name": "stdout",
     "output_type": "stream",
     "text": [
      "8\n"
     ]
    }
   ],
   "source": [
    "N = int(input())\n",
    "print(N**3)"
   ]
  },
  {
   "cell_type": "code",
   "execution_count": null,
   "metadata": {},
   "outputs": [
    {
     "name": "stdout",
     "output_type": "stream",
     "text": [
      "173.21\n"
     ]
    }
   ],
   "source": [
    "# 4.   The area of an equilateral triangle is ¼(√3a2) where \"a\" represents a side of the triangle. You are provided with the side \"a\". Find the area of the equilateral triangle.\n",
    "\n",
    "# Input Description:\n",
    "# The side of an equilateral triangle is provided as the input.\n",
    "\n",
    "# Output Description:\n",
    "# Find the area of the equilateral triangle and print the answer up to 2 decimal places after rounding off.\n",
    "\n",
    "# Sample Input :\n",
    "# 20\n",
    "# Sample Output :\n",
    "# 173.21\n",
    "\n",
    "\n",
    "# Solution 1:\n",
    "import math\n",
    "a = int(input())\n",
    "area = (math.sqrt(3)/4)*(a**2)      # area = (1/4) * (math.sqrt(3) * (a**2))\n",
    "print(round(area,2))                # print(f\"{area:.2f}\")"
   ]
  },
  {
   "cell_type": "code",
   "execution_count": null,
   "metadata": {},
   "outputs": [
    {
     "name": "stdout",
     "output_type": "stream",
     "text": [
      "324\n"
     ]
    }
   ],
   "source": [
    "# 5.   You are provided with a number \"N\", Find the Nth term of the series: 1, 4, 9, 16, 25, 36, 49, 64, 81, .......\n",
    "\n",
    "# (Print \"Error\" if N = negative value and 0 if N = 0).\n",
    "\n",
    "# Input Description:\n",
    "# An integer N is provided to you as the input.\n",
    "\n",
    "# Output Description:\n",
    "# Find the Nth term in the provided series.\n",
    "\n",
    "# Sample Input :\n",
    "# 18\n",
    "# Sample Output :\n",
    "# 324\n",
    "\n",
    "N = int(input())\n",
    "if N < 0:\n",
    "    print(\"Error\")\n",
    "else:\n",
    "    print(N**2)"
   ]
  },
  {
   "cell_type": "code",
   "execution_count": 13,
   "metadata": {},
   "outputs": [
    {
     "name": "stdout",
     "output_type": "stream",
     "text": [
      "53.6\n"
     ]
    }
   ],
   "source": [
    "# 6.   You are given with a number A i.e. the temperature in Celcius. Write a program to convert this into Fahrenheit. \n",
    "\n",
    "# Note: In case of decimal values, round-off to two decimal places.\n",
    "\n",
    "# Input Description:\n",
    "# A number is provided in Celcius as the input of the program.\n",
    "\n",
    "# Output Description:\n",
    "# The output shall be the temperature converted into Fahrenheit corresponding to the input value print up to two decimal places and round off if required.\n",
    "\n",
    "# Sample Input :\n",
    "# 12\n",
    "# Sample Output :\n",
    "# 53.60\n",
    "\n",
    "T_in_C = float(input())\n",
    "T_in_F = (T_in_C * 9/5) + 32\n",
    "print(round(T_in_F,2))          # print(f\"{T_in_F:.2f}\")"
   ]
  },
  {
   "cell_type": "code",
   "execution_count": 16,
   "metadata": {},
   "outputs": [
    {
     "name": "stdout",
     "output_type": "stream",
     "text": [
      "9 18 27"
     ]
    }
   ],
   "source": [
    "# 7.   Using the method of looping, write a program to print the table of 9 till N in the format as follows:\n",
    "# (N is input by the user)\n",
    "\n",
    "# 9 18 27...\n",
    "\n",
    "# Print NULL if 0 is input\n",
    "\n",
    "# Input Description:\n",
    "# A positive integer is provided as an input.\n",
    "\n",
    "# Output Description:\n",
    "# Print the table of nine with single space between the elements till the number that is input.\n",
    "\n",
    "# Sample Input :\n",
    "# 3\n",
    "# Sample Output :\n",
    "# 9 18 27\n",
    "\n",
    "\n",
    "# Solution 1:\n",
    "N = int(input())\n",
    "if N == 0:\n",
    "    print(\"NULL\")   \n",
    "else:\n",
    "    for i in range(1, N + 1):\n",
    "        if i == N:\n",
    "            print(i * 9, end =\"\")            \n",
    "        else:\n",
    "            print(i * 9, end =\" \")\n",
    "\n",
    "\n",
    "# SOlution 2: The solution 2 contain space related issue\n",
    "# N = int(input())\n",
    "# if N == 0:\n",
    "#     print(\"Null\")\n",
    "# else:\n",
    "#     for i in range(1,N+1):\n",
    "#         print(9*i,end=\" \")"
   ]
  },
  {
   "cell_type": "code",
   "execution_count": null,
   "metadata": {},
   "outputs": [
    {
     "name": "stdout",
     "output_type": "stream",
     "text": [
      "100.0\n"
     ]
    }
   ],
   "source": [
    "# 8.   You are given with Principle amount($), Interest Rate(%) and Time (years) in that order. Find Simple Interest.\n",
    "\n",
    "# Print the output up to two decimal places (Round-off if necessary).\n",
    "\n",
    "# (S.I. = P*T*R/100)\n",
    "\n",
    "# Input Description:\n",
    "# Three values are given to you as the input. these values correspond to Principle amount, Interest Rate and Time in that particular order.\n",
    "\n",
    "# Output Description:\n",
    "# Find the Simple interest and print it up to two decimal places. Round off if required.\n",
    "\n",
    "# Sample Input :\n",
    "# 1000 2 5\n",
    "# Sample Output :\n",
    "# 100.00\n",
    "\n",
    "P,R,T = map(float, input().split())\n",
    "SI = (P * T * R) / 100\n",
    "print(round(SI, 2))         # print(f\"{SI:.2f}\")     "
   ]
  },
  {
   "cell_type": "code",
   "execution_count": 18,
   "metadata": {},
   "outputs": [
    {
     "name": "stdout",
     "output_type": "stream",
     "text": [
      "31\n"
     ]
    }
   ],
   "source": [
    "# 9.   You will be provided with a number. Print the number of days in the month corresponding to that number.\n",
    "\n",
    "# Note: In case the input is February, print 28 days. If the Input is not in valid range print \"Error\".\n",
    "\n",
    "# Input Description:\n",
    "# The input is in the form of a number.\n",
    "\n",
    "# Output Description:\n",
    "# Find the days in the month corresponding to the input number. Print Error if the input is not in a valid range.\n",
    "\n",
    "# Sample Input :\n",
    "# 8\n",
    "# Sample Output :\n",
    "# 31\n",
    "\n",
    "\n",
    "# # Solution 1:\n",
    "# N = int(input())\n",
    "# if N == 2:\n",
    "#     print(28)\n",
    "# elif N in [1,3,5,7,8,10,12]:\n",
    "#     print(31)\n",
    "# elif N in [4,6,9,11]:\n",
    "#     print(30)\n",
    "# else:\n",
    "#     print(\"Error\")\n",
    "    \n",
    "    \n",
    "# Solution 2:\n",
    "N = int(input())\n",
    "\n",
    "# Dictionary mapping month numbers to days\n",
    "days_in_month = {\n",
    "    1: 31,  # January\n",
    "    2: 28,  # February (not considering leap years)\n",
    "    3: 31,  # March\n",
    "    4: 30,  # April\n",
    "    5: 31,  # May\n",
    "    6: 30,  # June\n",
    "    7: 31,  # July\n",
    "    8: 31,  # August\n",
    "    9: 30,  # September\n",
    "    10: 31, # October\n",
    "    11: 30, # November\n",
    "    12: 31  # December\n",
    "}\n",
    "\n",
    "# Check if the input month number is valid\n",
    "# if 1 <= N <= 12:\n",
    "#     print(days_in_month[N])\n",
    "# else:\n",
    "#     print(\"Error\")\n",
    "if N in days_in_month:\n",
    "    print(days_in_month[N])\n",
    "else:\n",
    "    print(\"Error\")"
   ]
  },
  {
   "cell_type": "code",
   "execution_count": null,
   "metadata": {},
   "outputs": [
    {
     "name": "stdout",
     "output_type": "stream",
     "text": [
      "12.57\n"
     ]
    }
   ],
   "source": [
    "# 10.  You are provided with the radius of a circle \"A\". Find the length of its circumference.\n",
    "\n",
    "# Note: In case the output is coming in decimal, roundoff to 2nd decimal place. In case the input is a negative number, print \"Error\".\n",
    "\n",
    "# Input Description:\n",
    "# The Radius of a circle is provided as the input of the program.\n",
    "\n",
    "# Output Description:\n",
    "# Calculate and print the Circumference of the circle corresponding to the input radius up to two decimal places.\n",
    "\n",
    "# Sample Input :\n",
    "# 2\n",
    "# Sample Output :\n",
    "# 12.57\n",
    "\n",
    "import math\n",
    "R = float(input())\n",
    "if R < 0:\n",
    "    print(\"Error\")\n",
    "else:   \n",
    "    C = 2 * math.pi * R\n",
    "    print(round(C,2))       # print(f\"{C:.2f}\")"
   ]
  },
  {
   "cell_type": "code",
   "execution_count": null,
   "metadata": {},
   "outputs": [
    {
     "name": "stdout",
     "output_type": "stream",
     "text": [
      "1.00\n",
      "-3.00\n"
     ]
    }
   ],
   "source": [
    "# 11.  You are given the coefficients of a quadratic equation in order A, B & C.\n",
    "\n",
    "# Where A is the coefficient of X2,  B is the coefficient of X and C is the constant term in the most simplified form.\n",
    "\n",
    "# Example: For  X2 + 5X + 6 = 0, you are given the input as: 1 5 6.\n",
    "\n",
    "# Write a program to find all of the roots of the quadratic.\n",
    "\n",
    "# Note: The output should be up to 2nd decimal place (round off if needed) and in case of a recurring decimal use braces i.e. for eg: 0.33333..... => 0.33.\n",
    "\n",
    "# Note: Use Shri Dharacharya's Method to solve i.e. X = {-b + √(b² - 4ac) } / 2a & {-b-√(b² -4ac)} / 2a\n",
    "\n",
    "# Input Description:\n",
    "# Three numbers corresponding to the coefficients of x(squared), x and constant are given as an input in that particular order\n",
    "\n",
    "# Output Description:\n",
    "# Print the two values of X after rounding off to 2 decimal places if required.\n",
    "\n",
    "# Sample Input :\n",
    "# 1 5 6\n",
    "# Sample Output :\n",
    "# -2.00\n",
    "# -3.00\n",
    "\n",
    "\n",
    "# SOLUTION 1:\n",
    "import math\n",
    "a, b, c = map(float, input().split())\n",
    "Delta = (b ** 2) - (4 * a * c)\n",
    "sqrt_Delta = math.sqrt(Delta)\n",
    "root1 = (-b + sqrt_Delta) / (2 * a)\n",
    "root2 = (-b - sqrt_Delta) / (2 * a)\n",
    "print(f\"{root1:.2f}\")\n",
    "print(f\"{root2:.2f}\")  \n",
    "      \n",
    "\n",
    "# SOLUTION 2:\n",
    "# A, B, C = map(int, input().split())\n",
    "# D = B**2 - 4*A*C    \n",
    "# if D > 0:\n",
    "#     X1 = (-B + (D)**0.5) / (2 * A)\n",
    "#     X2 = (-B - (D)**0.5) / (2 * A)\n",
    "# print(f\"{X1:.2f}\")\n",
    "# print(f\"{X2:.2f}\") \n",
    "# print(round(X1,2))\n",
    "# print(round(X2,2))"
   ]
  },
  {
   "cell_type": "code",
   "execution_count": null,
   "metadata": {},
   "outputs": [
    {
     "name": "stdout",
     "output_type": "stream",
     "text": [
      "8\n"
     ]
    }
   ],
   "source": [
    "# 12.  Let \"A\"  be a string. Remove all the whitespaces and find it's length.\n",
    "\n",
    "# Input Description:\n",
    "# A string is provide as an input\n",
    "\n",
    "# Output Description:\n",
    "# Remove all the whitespaces and then print the length of the remaining string.\n",
    "\n",
    "# Sample Input :\n",
    "# Lorem Ipsum\n",
    "# Sample Output :\n",
    "# 10\n",
    "\n",
    "A = input()\n",
    "B = A. replace(\" \", \"\")\n",
    "print(len(B))\n"
   ]
  },
  {
   "cell_type": "code",
   "execution_count": null,
   "metadata": {},
   "outputs": [
    {
     "name": "stdout",
     "output_type": "stream",
     "text": [
      "100\n",
      "100\n",
      "100\n",
      "100\n",
      "100\n"
     ]
    }
   ],
   "source": [
    "#13.    Write a code to get the input and print it 5 times.\n",
    "\n",
    "# Input Description:\n",
    "# A single line contains an integer N.\n",
    "\n",
    "# Output Description:\n",
    "# Output contains 5 lines with each line having the value N.\n",
    "\n",
    "# Sample Input :\n",
    "# 4\n",
    "# Sample Output :\n",
    "# 4\n",
    "# 4\n",
    "# 4\n",
    "# 4\n",
    "# 4\n",
    "\n",
    "N = int(input())\n",
    "for i in range(5):\n",
    "    print(N)"
   ]
  },
  {
   "cell_type": "code",
   "execution_count": null,
   "metadata": {},
   "outputs": [
    {
     "name": "stdout",
     "output_type": "stream",
     "text": [
      "2\n",
      "4\n",
      "6\n"
     ]
    }
   ],
   "source": [
    "# 14.  Write a code to get an integer N and print the even values from 1 till N in a separate line.\n",
    "\n",
    "# Input Description:\n",
    "# A single line contains an integer N.\n",
    "\n",
    "# Output Description:\n",
    "# Print the even values from 1 to N in a separate line.\n",
    "\n",
    "# Sample Input :\n",
    "# 6\n",
    "# Sample Output :\n",
    "# 2\n",
    "# 4\n",
    "# 6\n",
    "\n",
    "N = int(input())\n",
    "for i in range(2, N+1, 2):\n",
    "    print(i)\n",
    "    \n",
    "# Solution 2:\n",
    "# for i in range(1, N + 1, 1):\n",
    "# if i % 2 == 0 :\n",
    "#     print(i)"
   ]
  },
  {
   "cell_type": "code",
   "execution_count": null,
   "metadata": {},
   "outputs": [
    {
     "name": "stdout",
     "output_type": "stream",
     "text": [
      "10\n",
      "9\n",
      "8\n",
      "7\n",
      "6\n",
      "5\n",
      "4\n",
      "3\n",
      "2\n",
      "1\n"
     ]
    }
   ],
   "source": [
    "# 15\n",
    "# Input Description:\n",
    "# A single line contains an integer N.\n",
    "\n",
    "# Output Description:\n",
    "# Print the values from N to 1 in a separate line.\n",
    "\n",
    "# Sample Input :\n",
    "# 10\n",
    "# Sample Output :\n",
    "# 10\n",
    "# 9\n",
    "# 8\n",
    "# 7\n",
    "# 6\n",
    "# 5\n",
    "# 4\n",
    "# 3\n",
    "# 2\n",
    "# 1\n",
    "\n",
    "N = int(input())\n",
    "for i in range(N, 0, -1):\n",
    "    print(i)"
   ]
  },
  {
   "cell_type": "code",
   "execution_count": null,
   "metadata": {},
   "outputs": [
    {
     "name": "stdout",
     "output_type": "stream",
     "text": [
      "Odd\n"
     ]
    }
   ],
   "source": [
    " # 16\n",
    " # You are provided with a number check whether its odd or even. \n",
    "\n",
    "# Print \"Odd\" or \"Even\" for the corresponding cases.\n",
    "\n",
    "# Note: In case of a decimal, Round off to nearest integer and then find the output. Incase the input is zero, print \"Zero\".\n",
    "\n",
    "\n",
    "# Input Description:\n",
    "# A number is provided as the input.\n",
    "\n",
    "# Output Description:\n",
    "# Find out whether the number is odd or even. Print \"Odd\" or \"Even\" for the corresponding cases. Note: In case of a decimal, Round off to nearest integer and then find the output. In case the input is zero, print \"Zero\".\n",
    "\n",
    "# Sample Input :\n",
    "# 2\n",
    "# Sample Output :\n",
    "# Even\n",
    "\n",
    "N = float(input())\n",
    "N_round = round(N)\n",
    "if N_round == 0:\n",
    "    print(\"Zero\")\n",
    "elif N_round % 2 == 0:\n",
    "    print(\"Even\")\n",
    "else:\n",
    "    print(\"Odd\")"
   ]
  },
  {
   "cell_type": "code",
   "execution_count": 1,
   "metadata": {},
   "outputs": [
    {
     "name": "stdout",
     "output_type": "stream",
     "text": [
      "144\n"
     ]
    }
   ],
   "source": [
    "# 17\n",
    "# You are given A = Length of a rectangle & B = breadth of a rectangle. Find its area “C”.\n",
    "\n",
    "# (A and B are natural numbers)\n",
    "\n",
    "# Input Description:\n",
    "# The inputs are two natural numbers representing the length and the breadth of a rectangle.\n",
    "\n",
    "# Output Description:\n",
    "# Find the area of the rectangle formed by the provided input. Round off the answer to the first decimal place if required.\n",
    "\n",
    "# Sample Input :\n",
    "# 2\n",
    "# 3\n",
    "# Sample Output :\n",
    "# 6\n",
    "\n",
    "input1 = int(input())\n",
    "input2 = int(input())\n",
    "area = input1 * input2\n",
    "print(area)"
   ]
  },
  {
   "cell_type": "code",
   "execution_count": 4,
   "metadata": {},
   "outputs": [
    {
     "name": "stdout",
     "output_type": "stream",
     "text": [
      "120\n"
     ]
    }
   ],
   "source": [
    "# # 18\n",
    "# You are provided with a number, \"N\". Find its factorial.\n",
    "\n",
    "# Input Description:\n",
    "# A positive integer is provided as an input.\n",
    "\n",
    "# Output Description:\n",
    "# Print the factorial of the integer.\n",
    "\n",
    "# Sample Input :\n",
    "# 2\n",
    "# Sample Output :\n",
    "# 2\n",
    "\n",
    "N = int(input())\n",
    "fact = 1\n",
    "for i in range(1, N+1):\n",
    "    fact *= i\n",
    "print(fact)"
   ]
  },
  {
   "cell_type": "code",
   "execution_count": null,
   "metadata": {},
   "outputs": [
    {
     "name": "stdout",
     "output_type": "stream",
     "text": [
      "2\n"
     ]
    }
   ],
   "source": [
    "# 19\n",
    "# Write a code to get 2 integers as input and find the HCF of the 2 integer without using recursion or Euclidean algorithm.\n",
    "\n",
    "# Input Description:\n",
    "# A single line containing 2 integers separated by space.\n",
    "\n",
    "# Output Description:\n",
    "# Print the HCF of the integers.\n",
    "\n",
    "# Sample Input :\n",
    "# 2 3\n",
    "# Sample Output :\n",
    "# 1\n",
    "\n",
    "A, B = map(int, input().split())\n",
    "min_num = min(A, B)\n",
    "hcf = 1\n",
    "for i in range(2, min_num + 1):\n",
    "    if A % i == 0 and B % i == 0:\n",
    "        hcf = i\n",
    "print(hcf)"
   ]
  },
  {
   "cell_type": "code",
   "execution_count": 6,
   "metadata": {},
   "outputs": [
    {
     "name": "stdout",
     "output_type": "stream",
     "text": [
      "10\n",
      "10\n",
      "10\n",
      "10\n",
      "10\n"
     ]
    }
   ],
   "source": [
    "# 20\n",
    "# Write a code to get 2 integers A and N. Print the integer A, N times in separate line.\n",
    "\n",
    "# Input Description:\n",
    "# First line contains an integer A. Second line contains an Integer N.\n",
    "\n",
    "# Output Description:\n",
    "# Print the integer A, N times in a separate line.\n",
    "\n",
    "# Sample Input :\n",
    "# 2 3\n",
    "# Sample Output :\n",
    "# 2\n",
    "# 2\n",
    "# 2\n",
    "\n",
    "A, N = map(int, input().split())\n",
    "for i in range(N):\n",
    "    print(A)"
   ]
  },
  {
   "cell_type": "code",
   "execution_count": 7,
   "metadata": {},
   "outputs": [
    {
     "name": "stdout",
     "output_type": "stream",
     "text": [
      "10\n"
     ]
    }
   ],
   "source": [
    "# 21\n",
    "# Write a code get an integer number as input and print the sum of the digits.\n",
    "\n",
    "# Input Description:\n",
    "# A single line containing an integer.\n",
    "\n",
    "# Output Description:\n",
    "# Print the sum of the digits of the integer.\n",
    "\n",
    "# Sample Input :\n",
    "# 124\n",
    "# Sample Output :\n",
    "# 7\n",
    "\n",
    "N = input()\n",
    "sum = 0\n",
    "for i in N:\n",
    "    sum = sum + int(i)\n",
    "print(sum)\n"
   ]
  },
  {
   "cell_type": "code",
   "execution_count": null,
   "metadata": {},
   "outputs": [],
   "source": [
    "# 22\n",
    "# Write a code to get an integer N and print values from 1 till N in a separate line.\n",
    "\n",
    "# Input Description:\n",
    "# A single line contains an integer N.\n",
    "\n",
    "# Output Description:\n",
    "# Print the values from 1 to N in a separate line.\n",
    "\n",
    "# Sample Input :\n",
    "# 5\n",
    "# Sample Output :\n",
    "# 1\n",
    "# 2\n",
    "# 3\n",
    "# 4\n",
    "# 5\n",
    "\n",
    "N = int(input()) \n",
    "for i in range(1, N+1):\n",
    " print(i)"
   ]
  },
  {
   "cell_type": "code",
   "execution_count": 10,
   "metadata": {},
   "outputs": [
    {
     "name": "stdout",
     "output_type": "stream",
     "text": [
      "4321\n"
     ]
    }
   ],
   "source": [
    "# 23\n",
    "# Write a program to get a string as input and reverse the string without using temporary variable.\n",
    "\n",
    "# Input Description:\n",
    "# A single line containing a string.\n",
    "\n",
    "# Output Description:\n",
    "# Print the reversed string.\n",
    "\n",
    "# Sample Input :\n",
    "# GUVI\n",
    "# Sample Output :\n",
    "# IVUG\n",
    "\n",
    "S = input()\n",
    "Result = S[::-1]\n",
    "print(Result)\n",
    "\n"
   ]
  },
  {
   "cell_type": "code",
   "execution_count": 11,
   "metadata": {},
   "outputs": [
    {
     "name": "stdout",
     "output_type": "stream",
     "text": [
      "25\n"
     ]
    }
   ],
   "source": [
    "# 24\n",
    "# You are given Two Numbers, A and B. If C = A + B. Find C.\n",
    "\n",
    "# Note: Round off the output to a single decimal place.\n",
    "\n",
    "# Input Description:\n",
    "# You are provided with two numbers A and B.\n",
    "\n",
    "# Output Description:\n",
    "# Find the sum of the two numbers (A + B)\n",
    "\n",
    "# Sample Input :\n",
    "# 1\n",
    "# 1\n",
    "# Sample Output :\n",
    "# 2\n",
    "\n",
    "A = float(input())\n",
    "B = float(input())\n",
    "C = round(A + B)\n",
    "print(C)"
   ]
  },
  {
   "cell_type": "code",
   "execution_count": 12,
   "metadata": {},
   "outputs": [
    {
     "name": "stdout",
     "output_type": "stream",
     "text": [
      "2000\n",
      "200000\n"
     ]
    }
   ],
   "source": [
    "# 25\n",
    "# You are given a number A in Kilometers. Convert this into B: Meters and C: Centi-Metres.\n",
    "\n",
    "# Input Description:\n",
    "# A number \"A\" representing some distance in kilometer is provided to you as the input.\n",
    "\n",
    "# Output Description:\n",
    "# Convert and print this value in meters and centimeters.\n",
    "\n",
    "# Sample Input :\n",
    "# 2\n",
    "# Sample Output :\n",
    "# 2000\n",
    "# 200000\n",
    "\n",
    "A = int(input())\n",
    "B = A * 1000\n",
    "C = A * 100000\n",
    "print(B)\n",
    "print(C)"
   ]
  },
  {
   "cell_type": "code",
   "execution_count": 15,
   "metadata": {},
   "outputs": [
    {
     "name": "stdout",
     "output_type": "stream",
     "text": [
      "1 2 3\n"
     ]
    }
   ],
   "source": [
    "# 26\n",
    "# Write a code to get an integer N and print the digits of the integer.\n",
    "\n",
    "# Input Description:\n",
    "# A single line contains an integer N.\n",
    "\n",
    "# Output Description:\n",
    "# Print the digits of the integer in a single line separated by space,\n",
    "\n",
    "# Sample Input :\n",
    "# 348\n",
    "# Sample Output :\n",
    "# 3 4 8\n",
    "\n",
    "N = int(input())\n",
    "str_n = str(N)\n",
    "print(' '.join(str_n))"
   ]
  },
  {
   "cell_type": "code",
   "execution_count": 16,
   "metadata": {},
   "outputs": [
    {
     "name": "stdout",
     "output_type": "stream",
     "text": [
      "12\n"
     ]
    }
   ],
   "source": [
    "# 27\n",
    "# You are provided with two numbers. Find and print the smaller number.\n",
    "\n",
    "# Input Description:\n",
    "# You are provided with two numbers as input.\n",
    "\n",
    "# Output Description:\n",
    "# Print the small number out of the two numbers.\n",
    "\n",
    "# Sample Input :\n",
    "# 23 1\n",
    "# Sample Output :\n",
    "# 1\n",
    "\n",
    "A, B = map(int, input().split())\n",
    "min_num = min(A, B)\n",
    "print(min_num)"
   ]
  },
  {
   "cell_type": "code",
   "execution_count": 28,
   "metadata": {},
   "outputs": [
    {
     "name": "stdout",
     "output_type": "stream",
     "text": [
      "2 4\n",
      "1 3\n"
     ]
    }
   ],
   "source": [
    "# 28\n",
    "# Write a code get an integer number as input and print the odd and even digits of the number separately.\n",
    "\n",
    "# Input Description:\n",
    "# A single line containing an integer.\n",
    "\n",
    "# Output Description:\n",
    "# Print the even and odd integers of the integer in a separate line.\n",
    "\n",
    "# Sample Input :\n",
    "# 1234\n",
    "# Sample Output :\n",
    "# 2 4\n",
    "# 1 3\n",
    "\n",
    "N = input()\n",
    "# str_n = str(N)\n",
    "Even = []\n",
    "Odd = []\n",
    "for i in str(N):\n",
    "    if int(i) % 2 == 0:\n",
    "        Even.append(i)  \n",
    "    else:\n",
    "        Odd.append(i)   \n",
    "\n",
    "Even.sort()\n",
    "Odd.sort()\n",
    "\n",
    "# print(Even)\n",
    "print(\" \".join(Even))\n",
    "print(\" \".join(Odd))\n"
   ]
  },
  {
   "cell_type": "code",
   "execution_count": 33,
   "metadata": {},
   "outputs": [
    {
     "name": "stdout",
     "output_type": "stream",
     "text": [
      "55\n"
     ]
    }
   ],
   "source": [
    "# 29\n",
    "# Write a code to get an integer N and print the sum of  values from 1 to N.\n",
    "\n",
    "# Input Description:\n",
    "# A single line contains an integer N.\n",
    "\n",
    "# Output Description:\n",
    "# Print the sum of values from 1 to N.\n",
    "\n",
    "# Sample Input :\n",
    "# 10\n",
    "# Sample Output :\n",
    "# 55\n",
    "\n",
    "N = int(input())\n",
    "sum = 0\n",
    "for i in range(1, N+1):\n",
    "    sum += i\n",
    "print(sum)"
   ]
  },
  {
   "cell_type": "code",
   "execution_count": 35,
   "metadata": {},
   "outputs": [
    {
     "name": "stdout",
     "output_type": "stream",
     "text": [
      "N\n"
     ]
    }
   ],
   "source": [
    "# 30\n",
    "# Let \"A\" be a year, write a program to check whether this year is a leap year or not.\n",
    "\n",
    "# Print \"Y\" if its a leap year and \"N\" if its a common year.\n",
    "\n",
    "# Input Description:\n",
    "# A Year is the input in the form of a positive integer.\n",
    "\n",
    "# Output Description:\n",
    "# Print \"Y\" if its a leap year and \"N\" if its a common year.\n",
    "\n",
    "# Sample Input :\n",
    "# 2020\n",
    "# Sample Output :\n",
    "# Y\n",
    "\n",
    "A = int(input())\n",
    "if (A % 4 == 0 and A % 100 != 0) or (A % 400 == 0):\n",
    "    print(\"Y\")  # Leap year\n",
    "else:\n",
    "    print(\"N\")  # Common year"
   ]
  }
 ],
 "metadata": {
  "kernelspec": {
   "display_name": "Python 3",
   "language": "python",
   "name": "python3"
  },
  "language_info": {
   "codemirror_mode": {
    "name": "ipython",
    "version": 3
   },
   "file_extension": ".py",
   "mimetype": "text/x-python",
   "name": "python",
   "nbconvert_exporter": "python",
   "pygments_lexer": "ipython3",
   "version": "3.13.2"
  }
 },
 "nbformat": 4,
 "nbformat_minor": 2
}
